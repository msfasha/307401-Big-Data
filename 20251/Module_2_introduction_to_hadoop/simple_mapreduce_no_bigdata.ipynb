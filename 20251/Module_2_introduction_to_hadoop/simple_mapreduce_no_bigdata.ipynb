{
  "nbformat": 4,
  "nbformat_minor": 0,
  "metadata": {
    "colab": {
      "provenance": []
    },
    "kernelspec": {
      "name": "python3",
      "display_name": "Python 3"
    },
    "language_info": {
      "name": "python"
    }
  },
  "cells": [
    {
      "cell_type": "markdown",
      "source": [
        "<div style=\"display: flex; justify-content: flex-start; align-items: center;\">\n",
        "    <a href=\"https://colab.research.google.com/github/msfasha/307304-Data-Mining/blob/main/20251/Module%202-Regression/1-simple%20linear%20regression.ipynb\" target=\"_blank\">    \n",
        "        <img src=\"https://colab.research.google.com/assets/colab-badge.svg\" alt=\"Open In Colab\" style=\"height: 25px; margin-right: 20px;\">\n",
        "    </a>\n",
        "</div>"
      ],
      "metadata": {
        "id": "vnN_ZfZkby8S"
      }
    },
    {
      "cell_type": "markdown",
      "source": [
        "## Simple MAP Reduce Functions (No Big Data)\n"
      ],
      "metadata": {
        "id": "w7K4sk11drgP"
      }
    },
    {
      "cell_type": "markdown",
      "source": [
        "#### Map Exampes  \n"
      ],
      "metadata": {
        "id": "0ZX0jUXcb4np"
      }
    },
    {
      "cell_type": "markdown",
      "source": [
        "This simple python code (no big data) demonstrate the idea of map where we map a function to a list of numbers."
      ],
      "metadata": {
        "id": "Y612hCvzcpnh"
      }
    },
    {
      "cell_type": "markdown",
      "source": [
        "**Method 1**"
      ],
      "metadata": {
        "id": "Z4Fy09XxcJNx"
      }
    },
    {
      "cell_type": "code",
      "source": [
        "lst = [1, 2, 3, 4]\n",
        "list(map(lambda x: x*x, lst))"
      ],
      "metadata": {
        "colab": {
          "base_uri": "https://localhost:8080/"
        },
        "id": "Bvx12JD-bzD6",
        "outputId": "c37886bf-eabd-4a13-b1d4-e42a74b38c5f"
      },
      "execution_count": 1,
      "outputs": [
        {
          "output_type": "execute_result",
          "data": {
            "text/plain": [
              "[1, 4, 9, 16]"
            ]
          },
          "metadata": {},
          "execution_count": 1
        }
      ]
    },
    {
      "cell_type": "markdown",
      "source": [
        "**Method 2**"
      ],
      "metadata": {
        "id": "y-Lu17MwcUPE"
      }
    },
    {
      "cell_type": "code",
      "source": [
        "def square(x):\n",
        "      return x*x\n",
        "list(map(square, lst))"
      ],
      "metadata": {
        "colab": {
          "base_uri": "https://localhost:8080/"
        },
        "id": "I5N6DtRLcUXT",
        "outputId": "8776c7b8-bb1c-46b6-d68a-4e38f7d53c0c"
      },
      "execution_count": 2,
      "outputs": [
        {
          "output_type": "execute_result",
          "data": {
            "text/plain": [
              "[1, 4, 9, 16]"
            ]
          },
          "metadata": {},
          "execution_count": 2
        }
      ]
    },
    {
      "cell_type": "markdown",
      "source": [
        "---"
      ],
      "metadata": {
        "id": "35EaPAQ7ced_"
      }
    },
    {
      "cell_type": "markdown",
      "source": [
        "#### Reduce Examples"
      ],
      "metadata": {
        "id": "-7ucMM_WcOSc"
      }
    },
    {
      "cell_type": "markdown",
      "source": [
        "This simple python code (no big data) demonstrate the idea of reduce, where we reduce a group of numbers into a single number.\n"
      ],
      "metadata": {
        "id": "oiIdw512ct0Q"
      }
    },
    {
      "cell_type": "markdown",
      "source": [
        "**Method 1**"
      ],
      "metadata": {
        "id": "her0hIhmcyEy"
      }
    },
    {
      "cell_type": "code",
      "source": [
        "from functools import reduce\n",
        "reduce(lambda x, y: x + y, lst)"
      ],
      "metadata": {
        "colab": {
          "base_uri": "https://localhost:8080/"
        },
        "id": "2P43GSbEcOYM",
        "outputId": "d25fadc4-2592-4226-b7f2-3c66a6972119"
      },
      "execution_count": 3,
      "outputs": [
        {
          "output_type": "execute_result",
          "data": {
            "text/plain": [
              "10"
            ]
          },
          "metadata": {},
          "execution_count": 3
        }
      ]
    },
    {
      "cell_type": "markdown",
      "source": [
        "**Method 2**"
      ],
      "metadata": {
        "id": "lrOJ5iD5cz-g"
      }
    },
    {
      "cell_type": "code",
      "source": [
        "def add_reduce(x, y):\n",
        "  out = x + y\n",
        "  print(f\"{x}+{y}-->{out}\")\n",
        "  return out\n",
        "reduce(add_reduce,lst)"
      ],
      "metadata": {
        "colab": {
          "base_uri": "https://localhost:8080/"
        },
        "id": "CZLFddc4c0FD",
        "outputId": "989d5aeb-3634-4c1d-c4a9-72207dd014d7"
      },
      "execution_count": 4,
      "outputs": [
        {
          "output_type": "stream",
          "name": "stdout",
          "text": [
            "1+2-->3\n",
            "3+3-->6\n",
            "6+4-->10\n"
          ]
        },
        {
          "output_type": "execute_result",
          "data": {
            "text/plain": [
              "10"
            ]
          },
          "metadata": {},
          "execution_count": 4
        }
      ]
    }
  ]
}