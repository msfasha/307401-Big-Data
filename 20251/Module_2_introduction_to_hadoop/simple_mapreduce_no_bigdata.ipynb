{
  "cells": [
    {
      "cell_type": "markdown",
      "metadata": {
        "id": "vnN_ZfZkby8S"
      },
      "source": [
        "<div style=\"display: flex; justify-content: flex-start; align-items: center;\">\n",
        "    <a href=\"https://colab.research.google.com/github/msfasha/307401-Big-Data/blob/main/20251/Module_2_introduction_to_hadoop/simple_mapreduce_no_bigdata.ipynb\" target=\"_blank\">    \n",
        "        <img src=\"https://colab.research.google.com/assets/colab-badge.svg\" alt=\"Open In Colab\" style=\"height: 25px; margin-right: 20px;\">\n",
        "    </a>\n",
        "</div>"
      ]
    },
    {
      "cell_type": "markdown",
      "metadata": {
        "id": "w7K4sk11drgP"
      },
      "source": [
        "## Simple MAP Reduce Functions (No Big Data)\n"
      ]
    },
    {
      "cell_type": "markdown",
      "metadata": {
        "id": "0ZX0jUXcb4np"
      },
      "source": [
        "#### Map Exampes  \n"
      ]
    },
    {
      "cell_type": "markdown",
      "metadata": {
        "id": "Y612hCvzcpnh"
      },
      "source": [
        "This simple python code (no big data) demonstrate the idea of map where we map a function to a list of numbers."
      ]
    },
    {
      "cell_type": "markdown",
      "metadata": {
        "id": "Z4Fy09XxcJNx"
      },
      "source": [
        "**Method 1**"
      ]
    },
    {
      "cell_type": "code",
      "execution_count": 1,
      "metadata": {
        "colab": {
          "base_uri": "https://localhost:8080/"
        },
        "id": "Bvx12JD-bzD6",
        "outputId": "c37886bf-eabd-4a13-b1d4-e42a74b38c5f"
      },
      "outputs": [
        {
          "data": {
            "text/plain": [
              "[1, 4, 9, 16]"
            ]
          },
          "execution_count": 1,
          "metadata": {},
          "output_type": "execute_result"
        }
      ],
      "source": [
        "lst = [1, 2, 3, 4]\n",
        "list(map(lambda x: x*x, lst))"
      ]
    },
    {
      "cell_type": "markdown",
      "metadata": {
        "id": "y-Lu17MwcUPE"
      },
      "source": [
        "**Method 2**"
      ]
    },
    {
      "cell_type": "code",
      "execution_count": 2,
      "metadata": {
        "colab": {
          "base_uri": "https://localhost:8080/"
        },
        "id": "I5N6DtRLcUXT",
        "outputId": "8776c7b8-bb1c-46b6-d68a-4e38f7d53c0c"
      },
      "outputs": [
        {
          "data": {
            "text/plain": [
              "[1, 4, 9, 16]"
            ]
          },
          "execution_count": 2,
          "metadata": {},
          "output_type": "execute_result"
        }
      ],
      "source": [
        "def square(x):\n",
        "      return x*x\n",
        "list(map(square, lst))"
      ]
    },
    {
      "cell_type": "markdown",
      "metadata": {
        "id": "35EaPAQ7ced_"
      },
      "source": [
        "---"
      ]
    },
    {
      "cell_type": "markdown",
      "metadata": {
        "id": "-7ucMM_WcOSc"
      },
      "source": [
        "#### Reduce Examples"
      ]
    },
    {
      "cell_type": "markdown",
      "metadata": {
        "id": "oiIdw512ct0Q"
      },
      "source": [
        "This simple python code (no big data) demonstrate the idea of reduce, where we reduce a group of numbers into a single number.\n"
      ]
    },
    {
      "cell_type": "markdown",
      "metadata": {
        "id": "her0hIhmcyEy"
      },
      "source": [
        "**Method 1**"
      ]
    },
    {
      "cell_type": "code",
      "execution_count": 3,
      "metadata": {
        "colab": {
          "base_uri": "https://localhost:8080/"
        },
        "id": "2P43GSbEcOYM",
        "outputId": "d25fadc4-2592-4226-b7f2-3c66a6972119"
      },
      "outputs": [
        {
          "data": {
            "text/plain": [
              "10"
            ]
          },
          "execution_count": 3,
          "metadata": {},
          "output_type": "execute_result"
        }
      ],
      "source": [
        "from functools import reduce\n",
        "reduce(lambda x, y: x + y, lst)"
      ]
    },
    {
      "cell_type": "markdown",
      "metadata": {
        "id": "lrOJ5iD5cz-g"
      },
      "source": [
        "**Method 2**"
      ]
    },
    {
      "cell_type": "code",
      "execution_count": 4,
      "metadata": {
        "colab": {
          "base_uri": "https://localhost:8080/"
        },
        "id": "CZLFddc4c0FD",
        "outputId": "989d5aeb-3634-4c1d-c4a9-72207dd014d7"
      },
      "outputs": [
        {
          "name": "stdout",
          "output_type": "stream",
          "text": [
            "1+2-->3\n",
            "3+3-->6\n",
            "6+4-->10\n"
          ]
        },
        {
          "data": {
            "text/plain": [
              "10"
            ]
          },
          "execution_count": 4,
          "metadata": {},
          "output_type": "execute_result"
        }
      ],
      "source": [
        "def add_reduce(x, y):\n",
        "  out = x + y\n",
        "  print(f\"{x}+{y}-->{out}\")\n",
        "  return out\n",
        "reduce(add_reduce,lst)"
      ]
    }
  ],
  "metadata": {
    "colab": {
      "provenance": []
    },
    "kernelspec": {
      "display_name": "Python 3",
      "name": "python3"
    },
    "language_info": {
      "name": "python"
    }
  },
  "nbformat": 4,
  "nbformat_minor": 0
}
